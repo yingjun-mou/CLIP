{
  "nbformat": 4,
  "nbformat_minor": 0,
  "metadata": {
    "colab": {
      "provenance": [],
      "authorship_tag": "ABX9TyMiBFuIx1N95R5BMPMjWQJn",
      "include_colab_link": true
    },
    "kernelspec": {
      "name": "python3",
      "display_name": "Python 3"
    },
    "language_info": {
      "name": "python"
    }
  },
  "cells": [
    {
      "cell_type": "markdown",
      "metadata": {
        "id": "view-in-github",
        "colab_type": "text"
      },
      "source": [
        "<a href=\"https://colab.research.google.com/github/yingjun-mou/CLIP/blob/master/Reproduce_CLIP.ipynb\" target=\"_parent\"><img src=\"https://colab.research.google.com/assets/colab-badge.svg\" alt=\"Open In Colab\"/></a>"
      ]
    },
    {
      "cell_type": "markdown",
      "source": [],
      "metadata": {
        "id": "kNXK9oei3GzS"
      }
    },
    {
      "cell_type": "markdown",
      "source": [
        "This notework aims to reproduce CLIP model proposed in *Learning Transferable Visual Models From Natural Language Supervision*."
      ],
      "metadata": {
        "id": "Ja4hxWfm3Hpa"
      }
    },
    {
      "cell_type": "code",
      "execution_count": null,
      "metadata": {
        "id": "xavNBypd3A-m"
      },
      "outputs": [],
      "source": []
    }
  ]
}